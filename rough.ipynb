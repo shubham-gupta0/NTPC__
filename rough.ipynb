{
 "cells": [
  {
   "cell_type": "code",
   "execution_count": 3,
   "metadata": {},
   "outputs": [
    {
     "name": "stdout",
     "output_type": "stream",
     "text": [
      "Model cached at: C:\\Users\\buvan\\.cache\\huggingface\\transformers\n"
     ]
    },
    {
     "ename": "",
     "evalue": "",
     "output_type": "error",
     "traceback": [
      "\u001b[1;31mThe Kernel crashed while executing code in the current cell or a previous cell. \n",
      "\u001b[1;31mPlease review the code in the cell(s) to identify a possible cause of the failure. \n",
      "\u001b[1;31mClick <a href='https://aka.ms/vscodeJupyterKernelCrash'>here</a> for more info. \n",
      "\u001b[1;31mView Jupyter <a href='command:jupyter.viewOutput'>log</a> for further details."
     ]
    }
   ],
   "source": [
    "import os\n",
    "from transformers import AutoModelForCausalLM, AutoTokenizer\n",
    "from transformers.utils import logging\n",
    "\n",
    "# Constants\n",
    "MODEL_NAME = \"Qwen/Qwen2.5-1.5B-Instruct\"\n",
    "\n",
    "def get_model_cache_path(model_name: str):\n",
    "    \"\"\"Get the cached directory of the model from Hugging Face.\"\"\"\n",
    "    # Get the model and tokenizer\n",
    "    model = AutoModelForCausalLM.from_pretrained(model_name)\n",
    "    tokenizer = AutoTokenizer.from_pretrained(model_name)\n",
    "\n",
    "    # Hugging Face uses a default cache location\n",
    "    # Check if a custom cache directory is set by the user\n",
    "    cache_dir = os.getenv('TRANSFORMERS_CACHE', None)\n",
    "\n",
    "    if not cache_dir:\n",
    "        # Default location for Hugging Face cache\n",
    "        cache_dir = os.path.join(os.path.expanduser('~'), '.cache', 'huggingface', 'transformers')\n",
    "\n",
    "    return cache_dir\n",
    "\n",
    "def main():\n",
    "    \"\"\"Main function to print the cached model location.\"\"\"\n",
    "    cache_path = get_model_cache_path(MODEL_NAME)\n",
    "    print(f\"Model cached at: {cache_path}\")\n",
    "\n",
    "if __name__ == \"__main__\":\n",
    "    main()\n"
   ]
  },
  {
   "cell_type": "code",
   "execution_count": null,
   "metadata": {},
   "outputs": [],
   "source": []
  }
 ],
 "metadata": {
  "kernelspec": {
   "display_name": "myenv",
   "language": "python",
   "name": "python3"
  },
  "language_info": {
   "codemirror_mode": {
    "name": "ipython",
    "version": 3
   },
   "file_extension": ".py",
   "mimetype": "text/x-python",
   "name": "python",
   "nbconvert_exporter": "python",
   "pygments_lexer": "ipython3",
   "version": "3.9.13"
  }
 },
 "nbformat": 4,
 "nbformat_minor": 2
}
